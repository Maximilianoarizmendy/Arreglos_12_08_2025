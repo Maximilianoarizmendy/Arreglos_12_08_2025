{
  "nbformat": 4,
  "nbformat_minor": 0,
  "metadata": {
    "colab": {
      "provenance": [],
      "authorship_tag": "ABX9TyN0XsKADjqwgxMt1tDeUXsq",
      "include_colab_link": true
    },
    "kernelspec": {
      "name": "python3",
      "display_name": "Python 3"
    },
    "language_info": {
      "name": "python"
    }
  },
  "cells": [
    {
      "cell_type": "markdown",
      "metadata": {
        "id": "view-in-github",
        "colab_type": "text"
      },
      "source": [
        "<a href=\"https://colab.research.google.com/github/Maximilianoarizmendy/Arreglos_12_08_2025/blob/main/Untitled0.ipynb\" target=\"_parent\"><img src=\"https://colab.research.google.com/assets/colab-badge.svg\" alt=\"Open In Colab\"/></a>"
      ]
    },
    {
      "cell_type": "code",
      "source": [],
      "metadata": {
        "id": "ua_AaH6bWHgc"
      },
      "execution_count": null,
      "outputs": []
    },
    {
      "cell_type": "markdown",
      "source": [
        "Los vectores son una reserva de memoria para almacenar informacion, solo puede ser de un tipo, si es numerico, es numérico, si es texto,\n",
        "debe continuar siendo texto, esto aplica para las matrices.\n",
        "Los arreglos son identificadores estaticos, esto significa que es otra forma de definir, varibales y constantes."
      ],
      "metadata": {
        "id": "jik2nBPgWFik"
      }
    },
    {
      "cell_type": "code",
      "source": [
        "import numpy as np\n",
        "\n",
        "vector = np.array([1, 2, 3, 4, 5])\n",
        "print(vector)\n",
        "print(vector[2])\n",
        "\n",
        "vector2= np.ones(5)\n",
        "print(vector2)\n",
        "\n",
        "vector3=np.arange(1,10)\n",
        "print(\"rango\", vector3)\n",
        "\n",
        "vector4=np.linspace(1,10,5)\n",
        "print(\"linspace\",vector4)\n",
        "\n",
        "vector5= np.random.rand(10)\n",
        "print(\"random\",vector5)\n",
        "\n",
        "vector6= np.random.randint(1,10,10)\n",
        "print(\"random int\",vector6)"
      ],
      "metadata": {
        "colab": {
          "base_uri": "https://localhost:8080/"
        },
        "id": "oaOjGm0JWOyL",
        "outputId": "fb848cae-d9e7-43ba-f46f-511edab87e8d"
      },
      "execution_count": 2,
      "outputs": [
        {
          "output_type": "stream",
          "name": "stdout",
          "text": [
            "[1 2 3 4 5]\n",
            "3\n",
            "[1. 1. 1. 1. 1.]\n",
            "rango [1 2 3 4 5 6 7 8 9]\n",
            "linspace [ 1.    3.25  5.5   7.75 10.  ]\n",
            "random [0.33769308 0.97081901 0.31198423 0.71514723 0.90348089 0.66027772\n",
            " 0.11546849 0.11670772 0.57574448 0.39172813]\n",
            "random int [1 5 5 1 5 7 6 8 7 5]\n"
          ]
        }
      ]
    },
    {
      "cell_type": "markdown",
      "metadata": {
        "id": "82bfb26a"
      },
      "source": [
        "Vectors and arrays are fundamental data structures in many programming languages and mathematical contexts. They are used to store collections of elements, typically of the same data type, in a structured manner."
      ]
    }
  ]
}